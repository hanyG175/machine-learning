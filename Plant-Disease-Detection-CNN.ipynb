{
  "cells": [
    {
      "cell_type": "markdown",
      "metadata": {
        "id": "view-in-github",
        "colab_type": "text"
      },
      "source": [
        "<a href=\"https://colab.research.google.com/github/hanyG175/machine-learning/blob/main/Plant-Disease-Detection-CNN.ipynb\" target=\"_parent\"><img src=\"https://colab.research.google.com/assets/colab-badge.svg\" alt=\"Open In Colab\"/></a>"
      ]
    },
    {
      "cell_type": "code",
      "execution_count": 2,
      "metadata": {
        "id": "IixamjdpChcK"
      },
      "outputs": [],
      "source": [
        "import os\n",
        "import random\n",
        "import shutil\n",
        "import logging\n",
        "import sys\n",
        "from pathlib import Path\n",
        "from collections import Counter\n",
        "from concurrent.futures import ThreadPoolExecutor, as_completed\n",
        "from functools import partial\n",
        "\n",
        "import numpy as np\n",
        "import pandas as pd\n",
        "import matplotlib.pyplot as plt\n",
        "import seaborn as sns\n",
        "from tqdm import tqdm\n",
        "import psutil\n",
        "\n",
        "import tensorflow as tf\n",
        "from tensorflow.keras.preprocessing.image import ImageDataGenerator\n",
        "from tensorflow.keras import Sequential, layers\n",
        "from tensorflow.keras.callbacks import EarlyStopping, ReduceLROnPlateau, ModelCheckpoint\n",
        "from sklearn.model_selection import train_test_split\n",
        "from sklearn.metrics import classification_report, confusion_matrix\n",
        "\n",
        "# Import PIL for image processing (needed for image validation)\n",
        "from PIL import Image"
      ]
    },
    {
      "cell_type": "code",
      "execution_count": null,
      "metadata": {
        "id": "L1Pt_MFsB3TM"
      },
      "outputs": [],
      "source": [
        "# 1. Mount Google Drive and Unzip Dataset (Colab specific)\n",
        "# ---------------------------\n",
        "# Only if using Google Colab\n",
        "try:\n",
        "    from google.colab import drive\n",
        "    drive.mount('/content/drive')\n",
        "    # Unzip the dataset from Google Drive to local directory\n",
        "except ImportError:\n",
        "    print(\"Not running in Google Colab, skipping drive mount and unzip.\")"
      ]
    },
    {
      "cell_type": "code",
      "source": [
        "!unzip /content/drive/MyDrive/datasets/crop-pest-and-disease-detection.zip -d /content/dataset/"
      ],
      "metadata": {
        "id": "ZD7g27Oa4w7E"
      },
      "execution_count": null,
      "outputs": []
    },
    {
      "cell_type": "code",
      "execution_count": 3,
      "metadata": {
        "id": "xlBO4pFSvmCf"
      },
      "outputs": [],
      "source": [
        "# 2. Set Global Parameters and Random Seeds\n",
        "# ---------------------------\n",
        "DATA_PATH = \"dataset/\"        # Original dataset directory\n",
        "TEST_DATA_PATH = \"test_data_path\"  # Directory to store test images\n",
        "BALANCED_PATH = \"balanced_dataset\"  # Directory for balanced training data\n",
        "\n",
        "IMG_SIZE_ORIG = (224, 224)  # Original image size (used for cleaning)\n",
        "IMG_HEIGHT = 128          # Model input height (for training)\n",
        "IMG_WIDTH = 128           # Model input width (for training)\n",
        "BATCH_SIZE = 64\n",
        "EPOCHS = 10\n",
        "VALIDATION_SPLIT = 0.2\n",
        "\n",
        "# seeds for reproducibility\n",
        "random.seed(42)\n",
        "np.random.seed(42)\n",
        "tf.random.set_seed(42)"
      ]
    },
    {
      "cell_type": "code",
      "execution_count": null,
      "metadata": {
        "collapsed": true,
        "id": "ia7Omhec__BR"
      },
      "outputs": [],
      "source": [
        "# 3. Define Utility Functions for Dataset Cleaning\n",
        "# ---------------------------\n",
        "def is_valid_image(file_path):\n",
        "        \"\"\"\n",
        "        Validate if an image is readable and not corrupted\n",
        "        \"\"\"\n",
        "        try:\n",
        "            with Image.open(file_path) as img:\n",
        "                img.verify()\n",
        "                # Additional check to ensure image can be loaded\n",
        "                test_img = Image.open(file_path)\n",
        "                test_img.load()\n",
        "            return True\n",
        "        except Exception as e:\n",
        "            print(f\"Corrupted image detected: {file_path}\")\n",
        "            print(f\"Error: {e}\")\n",
        "            return False\n",
        "\n",
        "def clean_dataset(dataset_path):\n",
        "    \"\"\"\n",
        "    Thoroughly clean dataset by removing corrupted images\n",
        "    \"\"\"\n",
        "    total_images = 0\n",
        "    removed_images = 0\n",
        "\n",
        "    for root, dirs, files in os.walk(dataset_path):\n",
        "        for file in files:\n",
        "            if file.lower().endswith(('.png', '.jpg', '.jpeg', '.bmp', '.gif')):\n",
        "                file_path = os.path.join(root, file)\n",
        "                total_images += 1\n",
        "\n",
        "                # Try reading image, remove if corrupted\n",
        "                if not is_valid_image(file_path):\n",
        "                    os.remove(file_path)\n",
        "                    removed_images += 1\n",
        "\n",
        "    print(f\"Total images scanned: {total_images}\")\n",
        "    print(f\"Corrupted images removed: {removed_images}\")\n",
        "\n",
        "# Clean the dataset by removing corrupted images\n",
        "clean_dataset(DATA_PATH)"
      ]
    },
    {
      "cell_type": "code",
      "execution_count": 5,
      "metadata": {
        "id": "Y8bqIWOkD2lf"
      },
      "outputs": [],
      "source": [
        "# 4. Split the Dataset into Training/Validation and Test Sets\n",
        "# ---------------------------\n",
        "# Ensure test directory exists\n",
        "os.makedirs(TEST_DATA_PATH, exist_ok=True)\n",
        "\n",
        "# For each class directory in the dataset, split images and move a portion to test set.\n",
        "classes = os.listdir(DATA_PATH)\n",
        "for class_name in classes:\n",
        "    class_dir = os.path.join(DATA_PATH, class_name)\n",
        "    if os.path.isdir(class_dir):\n",
        "        images = os.listdir(class_dir)\n",
        "        # Split: 15% of images go to test set\n",
        "        train_val, test = train_test_split(images, test_size=0.15, random_state=42)\n",
        "\n",
        "        # Create test directory for the class\n",
        "        test_class_path = os.path.join(TEST_DATA_PATH, class_name)\n",
        "        os.makedirs(test_class_path, exist_ok=True)\n",
        "\n",
        "        # Move test images to the test directory\n",
        "        for image in test:\n",
        "            shutil.move(os.path.join(class_dir, image), os.path.join(test_class_path, image))"
      ]
    },
    {
      "cell_type": "code",
      "execution_count": 6,
      "metadata": {
        "colab": {
          "base_uri": "https://localhost:8080/"
        },
        "id": "-0RkGvI-0E_Y",
        "outputId": "5f6fbd21-4940-47d4-a5fc-7dfd000c298d"
      },
      "outputs": [
        {
          "output_type": "stream",
          "name": "stdout",
          "text": [
            "Class Distribution after test split:\n",
            "Tomato septoria leaf spot: 2331\n",
            "Cassava bacterial blight: 2221\n",
            "Cashew anthracnose: 1469\n",
            "Cashew red rust: 1429\n",
            "Cassava brown spot: 1258\n",
            "Cashew leaf miner: 1171\n",
            "Cashew healthy: 1162\n",
            "Tomato leaf blight: 1094\n",
            "Maize leaf spot: 1053\n",
            "Cassava mosaic: 1024\n",
            "Cassava healthy: 1014\n",
            "Cassava green mite: 862\n",
            "Maize leaf blight: 841\n",
            "Maize streak virus: 820\n",
            "Maize leaf beetle: 793\n",
            "Tomato verticulium wilt: 656\n",
            "Maize grasshoper: 572\n",
            "Tomato leaf curl: 434\n",
            "Tomato healthy: 396\n",
            "Cashew gumosis: 333\n",
            "Maize fall armyworm: 242\n",
            "Maize healthy: 173\n"
          ]
        }
      ],
      "source": [
        "# Display class distribution after test split\n",
        "class_counts = Counter()\n",
        "for class_dir in os.listdir(DATA_PATH):\n",
        "    class_path = os.path.join(DATA_PATH, class_dir)\n",
        "    if os.path.isdir(class_path):\n",
        "        class_counts[class_dir] = len(os.listdir(class_path))\n",
        "\n",
        "print(\"Class Distribution after test split:\")\n",
        "for cls, count in sorted(class_counts.items(), key=lambda x: x[1], reverse=True):\n",
        "    print(f\"{cls}: {count}\")"
      ]
    },
    {
      "cell_type": "code",
      "execution_count": 7,
      "metadata": {
        "collapsed": true,
        "id": "jfw3GHUBzGYF"
      },
      "outputs": [],
      "source": [
        "# 5. Define the Dataset Balancer Class\n",
        "# ---------------------------\n",
        "class DatasetBalancer:\n",
        "    \"\"\"\n",
        "    Balances the dataset by augmenting images for classes with fewer samples.\n",
        "\n",
        "    It uses parallel processing to accelerate augmentation and copying.\n",
        "    \"\"\"\n",
        "    def __init__(self, data_path, balanced_path, batch_size=32, max_workers=None):\n",
        "        \"\"\"\n",
        "        Initialize the dataset balancer.\n",
        "\n",
        "        Args:\n",
        "            data_path (str): Source dataset path.\n",
        "            balanced_path (str): Destination path for the balanced dataset.\n",
        "            batch_size (int): Batch size for processing images.\n",
        "            max_workers (int): Maximum number of parallel workers.\n",
        "        \"\"\"\n",
        "        self.data_path = Path(data_path)\n",
        "        self.balanced_path = Path(balanced_path)\n",
        "        self.batch_size = batch_size\n",
        "        self.max_workers = max_workers or min(32, (os.cpu_count() or 1) * 2)\n",
        "        # Use up to 70% of available RAM (for reference)\n",
        "        self.memory_limit = int(psutil.virtual_memory().total * 0.7)\n",
        "        self.data_gen = self._create_data_generator()\n",
        "\n",
        "    @staticmethod\n",
        "    def _create_data_generator():\n",
        "        \"\"\"\n",
        "        Create an ImageDataGenerator for data augmentation.\n",
        "\n",
        "        Returns:\n",
        "            ImageDataGenerator: Configured for augmentation.\n",
        "        \"\"\"\n",
        "        return ImageDataGenerator(\n",
        "            rescale=1.0 / 255,\n",
        "            rotation_range=20,\n",
        "            width_shift_range=0.2,\n",
        "            height_shift_range=0.2,\n",
        "            shear_range=0.2,\n",
        "            zoom_range=0.2,\n",
        "            horizontal_flip=True,\n",
        "            validation_split=0.2,\n",
        "            fill_mode='nearest'\n",
        "        )\n",
        "\n",
        "    def _process_image_batch(self, image_files, save_dir, augment=False):\n",
        "        \"\"\"\n",
        "        Process a batch of images by copying or augmenting.\n",
        "\n",
        "        Args:\n",
        "            image_files (list): List of image file paths.\n",
        "            save_dir (Path): Destination directory for processed images.\n",
        "            augment (bool): Whether to augment the images.\n",
        "\n",
        "        Returns:\n",
        "            int: Number of images processed.\n",
        "        \"\"\"\n",
        "        try:\n",
        "            for img_file in image_files:\n",
        "                if augment:\n",
        "                    self._augment_and_save_image(img_file, save_dir)\n",
        "                else:\n",
        "                    shutil.copy2(str(img_file), str(save_dir))\n",
        "            return len(image_files)\n",
        "        except Exception as e:\n",
        "            logging.error(f\"Error processing batch: {str(e)}\")\n",
        "            return 0\n",
        "\n",
        "    def _augment_and_save_image(self, source_img, save_dir):\n",
        "        \"\"\"\n",
        "        Augment a single image and save the result.\n",
        "\n",
        "        Args:\n",
        "            source_img (Path): Source image file path.\n",
        "            save_dir (Path): Directory to save the augmented image.\n",
        "        \"\"\"\n",
        "        try:\n",
        "            # Load image and convert to array\n",
        "            img = tf.keras.preprocessing.image.load_img(str(source_img))\n",
        "            img_array = tf.keras.preprocessing.image.img_to_array(img)\n",
        "            img_array = np.expand_dims(img_array, 0)\n",
        "\n",
        "            # Generate an augmented image and save it\n",
        "            _ = next(self.data_gen.flow(\n",
        "                img_array,\n",
        "                batch_size=1,\n",
        "                save_to_dir=str(save_dir),\n",
        "                save_prefix=f'aug_{source_img.stem}',\n",
        "                save_format='jpg'\n",
        "            ))\n",
        "\n",
        "            # Clear memory\n",
        "            del img, img_array\n",
        "            tf.keras.backend.clear_session()\n",
        "\n",
        "        except Exception as e:\n",
        "            logging.error(f\"Error augmenting {source_img}: {str(e)}\")\n",
        "\n",
        "    def _process_class(self, class_name, count, target_count):\n",
        "        \"\"\"\n",
        "        Balance a single class by copying or augmenting images.\n",
        "\n",
        "        Args:\n",
        "            class_name (str): Name of the class.\n",
        "            count (int): Current number of images in the class.\n",
        "            target_count (int): Desired number of images.\n",
        "\n",
        "        Returns:\n",
        "            int: Final number of images for the class.\n",
        "        \"\"\"\n",
        "        try:\n",
        "            class_dir = self.data_path / class_name\n",
        "            save_dir = self.balanced_path / class_name\n",
        "            save_dir.mkdir(exist_ok=True, parents=True)\n",
        "\n",
        "            # Clear existing files in the destination directory\n",
        "            for file in save_dir.glob('*'):\n",
        "                file.unlink()\n",
        "\n",
        "            images = list(class_dir.glob('*'))\n",
        "\n",
        "            if count < target_count:\n",
        "                # First, copy original images\n",
        "                self._batch_process_images(images, save_dir, augment=False)\n",
        "                # Determine how many augmented images are needed\n",
        "                remaining = target_count - count\n",
        "                # Randomly select images to augment\n",
        "                source_images = [random.choice(images) for _ in range(remaining)]\n",
        "                self._batch_process_images(source_images, save_dir, augment=True)\n",
        "            elif count > target_count:\n",
        "                # Randomly select a subset of images if there are too many\n",
        "                selected_images = random.sample(images, target_count)\n",
        "                self._batch_process_images(selected_images, save_dir, augment=False)\n",
        "            else:\n",
        "                # If exactly equal, just copy all images\n",
        "                self._batch_process_images(images, save_dir, augment=False)\n",
        "\n",
        "            return len(list(save_dir.glob('*')))\n",
        "        except Exception as e:\n",
        "            logging.error(f\"Error processing class {class_name}: {str(e)}\")\n",
        "            return 0\n",
        "\n",
        "    def _batch_process_images(self, images, save_dir, augment=False):\n",
        "        \"\"\"\n",
        "        Process images in batches using multithreading.\n",
        "\n",
        "        Args:\n",
        "            images (list): List of image file paths.\n",
        "            save_dir (Path): Destination directory.\n",
        "            augment (bool): Whether to augment images.\n",
        "        \"\"\"\n",
        "        batches = [images[i:i + self.batch_size] for i in range(0, len(images), self.batch_size)]\n",
        "\n",
        "        with ThreadPoolExecutor(max_workers=self.max_workers) as executor:\n",
        "            process_batch = partial(self._process_image_batch, save_dir=save_dir, augment=augment)\n",
        "            futures = [executor.submit(process_batch, batch) for batch in batches]\n",
        "\n",
        "            with tqdm(total=len(images), desc=f\"Processing {'augmented' if augment else 'original'} images\") as pbar:\n",
        "                for future in as_completed(futures):\n",
        "                    pbar.update(future.result())\n",
        "\n",
        "    def balance_dataset(self, target_count=None):\n",
        "        \"\"\"\n",
        "        Balance the dataset so that each class has the same number of samples.\n",
        "\n",
        "        Args:\n",
        "            target_count (int, optional): Desired number of samples per class.\n",
        "                                         Defaults to the maximum samples of any class.\n",
        "\n",
        "        Returns:\n",
        "            dict: Final sample count per class.\n",
        "        \"\"\"\n",
        "        try:\n",
        "            if not self.data_path.exists():\n",
        "                raise ValueError(f\"Source data path does not exist: {self.data_path}\")\n",
        "            os.makedirs(self.balanced_path, exist_ok=True)\n",
        "\n",
        "            # Compute the number of images per class\n",
        "            class_counts = {\n",
        "                class_dir.name: len(list(class_dir.glob('*')))\n",
        "                for class_dir in self.data_path.iterdir() if class_dir.is_dir()\n",
        "            }\n",
        "            target_count = target_count or max(class_counts.values())\n",
        "            logging.info(f\"Balancing dataset to {target_count} samples per class\")\n",
        "\n",
        "            # Process each class in parallel\n",
        "            with ThreadPoolExecutor(max_workers=self.max_workers) as executor:\n",
        "                futures = {\n",
        "                    executor.submit(self._process_class, class_name, count, target_count): class_name\n",
        "                    for class_name, count in class_counts.items()\n",
        "                }\n",
        "                results = {}\n",
        "                for future in tqdm(as_completed(futures), total=len(futures), desc=\"Processing classes\"):\n",
        "                    class_name = futures[future]\n",
        "                    try:\n",
        "                        results[class_name] = future.result()\n",
        "                    except Exception as e:\n",
        "                        logging.error(f\"Error processing class {class_name}: {str(e)}\")\n",
        "                        results[class_name] = 0\n",
        "\n",
        "            logging.info(\"Final class distribution after balancing:\")\n",
        "            for class_name, count in results.items():\n",
        "                logging.info(f\"{class_name}: {count}\")\n",
        "                if count != target_count:\n",
        "                    logging.warning(f\"Class {class_name} ended with {count} samples instead of {target_count}\")\n",
        "            return results\n",
        "        except Exception as e:\n",
        "            logging.error(f\"Error during dataset balancing: {str(e)}\")\n",
        "            raise"
      ]
    },
    {
      "cell_type": "code",
      "execution_count": null,
      "metadata": {
        "collapsed": true,
        "id": "r6nZiLWK-GhB"
      },
      "outputs": [],
      "source": [
        "# 6. Balance the Dataset\n",
        "# ---------------------------\n",
        "if __name__ == \"__main__\":\n",
        "    # Balance training data (the original DATA_PATH now has training/validation images only)\n",
        "    balancer = DatasetBalancer(DATA_PATH, BALANCED_PATH, batch_size=32)\n",
        "    balancer.balance_dataset()\n",
        "\n",
        "    # Count and display the balanced class distribution\n",
        "    balanced_class_counts = {}\n",
        "    for class_dir in os.listdir(BALANCED_PATH):\n",
        "        class_path = os.path.join(BALANCED_PATH, class_dir)\n",
        "        if os.path.isdir(class_path):\n",
        "            balanced_class_counts[class_dir] = len(os.listdir(class_path))\n",
        "\n",
        "    print(\"Balanced Class Distribution:\", balanced_class_counts)"
      ]
    },
    {
      "cell_type": "code",
      "execution_count": 9,
      "metadata": {
        "id": "jkzWF0dVpGKL"
      },
      "outputs": [],
      "source": [
        "# 7. Set Up Data Generators for Model Training\n",
        "# ---------------------------\n",
        "train_datagen = ImageDataGenerator(\n",
        "    rescale=1.0 / 255,\n",
        "    validation_split=VALIDATION_SPLIT,\n",
        "    rotation_range=10,         # Slight augmentation for training\n",
        "    width_shift_range=0.1,\n",
        "    height_shift_range=0.1,\n",
        "    horizontal_flip=True,\n",
        "    fill_mode='nearest'\n",
        ")"
      ]
    },
    {
      "cell_type": "code",
      "execution_count": 10,
      "metadata": {
        "colab": {
          "base_uri": "https://localhost:8080/"
        },
        "id": "ZREGeKQY4lLz",
        "outputId": "75192cd2-55c0-496b-a744-03a005c2b149"
      },
      "outputs": [
        {
          "output_type": "stream",
          "name": "stdout",
          "text": [
            "Found 41027 images belonging to 22 classes.\n"
          ]
        }
      ],
      "source": [
        "# Load training data from the balanced dataset directory\n",
        "train_data = train_datagen.flow_from_directory(\n",
        "    BALANCED_PATH,\n",
        "    target_size=(IMG_HEIGHT, IMG_WIDTH),\n",
        "    batch_size=BATCH_SIZE,\n",
        "    class_mode='categorical',\n",
        "    subset='training',\n",
        "    shuffle=True\n",
        ")"
      ]
    },
    {
      "cell_type": "code",
      "execution_count": 11,
      "metadata": {
        "colab": {
          "base_uri": "https://localhost:8080/"
        },
        "id": "0AvrwNwo-m-C",
        "outputId": "bf3550df-86c9-461f-b10e-75fbfc46afd1"
      },
      "outputs": [
        {
          "output_type": "stream",
          "name": "stdout",
          "text": [
            "Found 10251 images belonging to 22 classes.\n"
          ]
        }
      ],
      "source": [
        "# Load validation data\n",
        "val_data = train_datagen.flow_from_directory(\n",
        "    BALANCED_PATH,\n",
        "    target_size=(IMG_HEIGHT, IMG_WIDTH),\n",
        "    batch_size=BATCH_SIZE,\n",
        "    class_mode='categorical',\n",
        "    subset='validation',\n",
        "    shuffle=False\n",
        ")"
      ]
    },
    {
      "cell_type": "code",
      "execution_count": 12,
      "metadata": {
        "colab": {
          "base_uri": "https://localhost:8080/"
        },
        "id": "8AsVJIca_LeP",
        "outputId": "45febf34-3693-4c5b-c8ef-45bbeee62afb"
      },
      "outputs": [
        {
          "output_type": "stream",
          "name": "stdout",
          "text": [
            "Found 22 classes: ['Cashew anthracnose', 'Cashew gumosis', 'Cashew healthy', 'Cashew leaf miner', 'Cashew red rust', 'Cassava bacterial blight', 'Cassava brown spot', 'Cassava green mite', 'Cassava healthy', 'Cassava mosaic', 'Maize fall armyworm', 'Maize grasshoper', 'Maize healthy', 'Maize leaf beetle', 'Maize leaf blight', 'Maize leaf spot', 'Maize streak virus', 'Tomato healthy', 'Tomato leaf blight', 'Tomato leaf curl', 'Tomato septoria leaf spot', 'Tomato verticulium wilt']\n"
          ]
        }
      ],
      "source": [
        "# Get class information\n",
        "num_classes = len(train_data.class_indices)\n",
        "class_names = list(train_data.class_indices.keys())\n",
        "print(f\"Found {num_classes} classes: {class_names}\")"
      ]
    },
    {
      "cell_type": "code",
      "execution_count": 13,
      "metadata": {
        "id": "PQk03VUzRvhI"
      },
      "outputs": [],
      "source": [
        "# 8. Build and Compile the Model\n",
        "# ---------------------------\n",
        "# Option 1: Use a simple custom CNN\n",
        "model = Sequential([\n",
        "    layers.Input(shape=(IMG_HEIGHT, IMG_WIDTH, 3)),\n",
        "    layers.Conv2D(16, 3, activation='relu', padding='same'),\n",
        "    layers.MaxPooling2D(),\n",
        "    layers.Conv2D(32, 3, activation='relu', padding='same'),\n",
        "    layers.MaxPooling2D(),\n",
        "    layers.Conv2D(64, 3, activation='relu', padding='same'),\n",
        "    layers.MaxPooling2D(),\n",
        "    layers.Flatten(),\n",
        "    layers.Dense(256, activation='relu'),\n",
        "    layers.Dropout(0.5),\n",
        "    layers.Dense(num_classes, activation='softmax')\n",
        "])\n"
      ]
    },
    {
      "cell_type": "code",
      "execution_count": 14,
      "metadata": {
        "colab": {
          "base_uri": "https://localhost:8080/",
          "height": 464
        },
        "id": "XShSP5Z4R2ls",
        "outputId": "04f7ce0b-f575-4e5d-cb2f-1c52f28b840e"
      },
      "outputs": [
        {
          "output_type": "display_data",
          "data": {
            "text/plain": [
              "\u001b[1mModel: \"sequential\"\u001b[0m\n"
            ],
            "text/html": [
              "<pre style=\"white-space:pre;overflow-x:auto;line-height:normal;font-family:Menlo,'DejaVu Sans Mono',consolas,'Courier New',monospace\"><span style=\"font-weight: bold\">Model: \"sequential\"</span>\n",
              "</pre>\n"
            ]
          },
          "metadata": {}
        },
        {
          "output_type": "display_data",
          "data": {
            "text/plain": [
              "┏━━━━━━━━━━━━━━━━━━━━━━━━━━━━━━━━━━━━━━┳━━━━━━━━━━━━━━━━━━━━━━━━━━━━━┳━━━━━━━━━━━━━━━━━┓\n",
              "┃\u001b[1m \u001b[0m\u001b[1mLayer (type)                        \u001b[0m\u001b[1m \u001b[0m┃\u001b[1m \u001b[0m\u001b[1mOutput Shape               \u001b[0m\u001b[1m \u001b[0m┃\u001b[1m \u001b[0m\u001b[1m        Param #\u001b[0m\u001b[1m \u001b[0m┃\n",
              "┡━━━━━━━━━━━━━━━━━━━━━━━━━━━━━━━━━━━━━━╇━━━━━━━━━━━━━━━━━━━━━━━━━━━━━╇━━━━━━━━━━━━━━━━━┩\n",
              "│ conv2d (\u001b[38;5;33mConv2D\u001b[0m)                      │ (\u001b[38;5;45mNone\u001b[0m, \u001b[38;5;34m128\u001b[0m, \u001b[38;5;34m128\u001b[0m, \u001b[38;5;34m16\u001b[0m)        │             \u001b[38;5;34m448\u001b[0m │\n",
              "├──────────────────────────────────────┼─────────────────────────────┼─────────────────┤\n",
              "│ max_pooling2d (\u001b[38;5;33mMaxPooling2D\u001b[0m)         │ (\u001b[38;5;45mNone\u001b[0m, \u001b[38;5;34m64\u001b[0m, \u001b[38;5;34m64\u001b[0m, \u001b[38;5;34m16\u001b[0m)          │               \u001b[38;5;34m0\u001b[0m │\n",
              "├──────────────────────────────────────┼─────────────────────────────┼─────────────────┤\n",
              "│ conv2d_1 (\u001b[38;5;33mConv2D\u001b[0m)                    │ (\u001b[38;5;45mNone\u001b[0m, \u001b[38;5;34m64\u001b[0m, \u001b[38;5;34m64\u001b[0m, \u001b[38;5;34m32\u001b[0m)          │           \u001b[38;5;34m4,640\u001b[0m │\n",
              "├──────────────────────────────────────┼─────────────────────────────┼─────────────────┤\n",
              "│ max_pooling2d_1 (\u001b[38;5;33mMaxPooling2D\u001b[0m)       │ (\u001b[38;5;45mNone\u001b[0m, \u001b[38;5;34m32\u001b[0m, \u001b[38;5;34m32\u001b[0m, \u001b[38;5;34m32\u001b[0m)          │               \u001b[38;5;34m0\u001b[0m │\n",
              "├──────────────────────────────────────┼─────────────────────────────┼─────────────────┤\n",
              "│ conv2d_2 (\u001b[38;5;33mConv2D\u001b[0m)                    │ (\u001b[38;5;45mNone\u001b[0m, \u001b[38;5;34m32\u001b[0m, \u001b[38;5;34m32\u001b[0m, \u001b[38;5;34m64\u001b[0m)          │          \u001b[38;5;34m18,496\u001b[0m │\n",
              "├──────────────────────────────────────┼─────────────────────────────┼─────────────────┤\n",
              "│ max_pooling2d_2 (\u001b[38;5;33mMaxPooling2D\u001b[0m)       │ (\u001b[38;5;45mNone\u001b[0m, \u001b[38;5;34m16\u001b[0m, \u001b[38;5;34m16\u001b[0m, \u001b[38;5;34m64\u001b[0m)          │               \u001b[38;5;34m0\u001b[0m │\n",
              "├──────────────────────────────────────┼─────────────────────────────┼─────────────────┤\n",
              "│ flatten (\u001b[38;5;33mFlatten\u001b[0m)                    │ (\u001b[38;5;45mNone\u001b[0m, \u001b[38;5;34m16384\u001b[0m)               │               \u001b[38;5;34m0\u001b[0m │\n",
              "├──────────────────────────────────────┼─────────────────────────────┼─────────────────┤\n",
              "│ dense (\u001b[38;5;33mDense\u001b[0m)                        │ (\u001b[38;5;45mNone\u001b[0m, \u001b[38;5;34m256\u001b[0m)                 │       \u001b[38;5;34m4,194,560\u001b[0m │\n",
              "├──────────────────────────────────────┼─────────────────────────────┼─────────────────┤\n",
              "│ dropout (\u001b[38;5;33mDropout\u001b[0m)                    │ (\u001b[38;5;45mNone\u001b[0m, \u001b[38;5;34m256\u001b[0m)                 │               \u001b[38;5;34m0\u001b[0m │\n",
              "├──────────────────────────────────────┼─────────────────────────────┼─────────────────┤\n",
              "│ dense_1 (\u001b[38;5;33mDense\u001b[0m)                      │ (\u001b[38;5;45mNone\u001b[0m, \u001b[38;5;34m22\u001b[0m)                  │           \u001b[38;5;34m5,654\u001b[0m │\n",
              "└──────────────────────────────────────┴─────────────────────────────┴─────────────────┘\n"
            ],
            "text/html": [
              "<pre style=\"white-space:pre;overflow-x:auto;line-height:normal;font-family:Menlo,'DejaVu Sans Mono',consolas,'Courier New',monospace\">┏━━━━━━━━━━━━━━━━━━━━━━━━━━━━━━━━━━━━━━┳━━━━━━━━━━━━━━━━━━━━━━━━━━━━━┳━━━━━━━━━━━━━━━━━┓\n",
              "┃<span style=\"font-weight: bold\"> Layer (type)                         </span>┃<span style=\"font-weight: bold\"> Output Shape                </span>┃<span style=\"font-weight: bold\">         Param # </span>┃\n",
              "┡━━━━━━━━━━━━━━━━━━━━━━━━━━━━━━━━━━━━━━╇━━━━━━━━━━━━━━━━━━━━━━━━━━━━━╇━━━━━━━━━━━━━━━━━┩\n",
              "│ conv2d (<span style=\"color: #0087ff; text-decoration-color: #0087ff\">Conv2D</span>)                      │ (<span style=\"color: #00d7ff; text-decoration-color: #00d7ff\">None</span>, <span style=\"color: #00af00; text-decoration-color: #00af00\">128</span>, <span style=\"color: #00af00; text-decoration-color: #00af00\">128</span>, <span style=\"color: #00af00; text-decoration-color: #00af00\">16</span>)        │             <span style=\"color: #00af00; text-decoration-color: #00af00\">448</span> │\n",
              "├──────────────────────────────────────┼─────────────────────────────┼─────────────────┤\n",
              "│ max_pooling2d (<span style=\"color: #0087ff; text-decoration-color: #0087ff\">MaxPooling2D</span>)         │ (<span style=\"color: #00d7ff; text-decoration-color: #00d7ff\">None</span>, <span style=\"color: #00af00; text-decoration-color: #00af00\">64</span>, <span style=\"color: #00af00; text-decoration-color: #00af00\">64</span>, <span style=\"color: #00af00; text-decoration-color: #00af00\">16</span>)          │               <span style=\"color: #00af00; text-decoration-color: #00af00\">0</span> │\n",
              "├──────────────────────────────────────┼─────────────────────────────┼─────────────────┤\n",
              "│ conv2d_1 (<span style=\"color: #0087ff; text-decoration-color: #0087ff\">Conv2D</span>)                    │ (<span style=\"color: #00d7ff; text-decoration-color: #00d7ff\">None</span>, <span style=\"color: #00af00; text-decoration-color: #00af00\">64</span>, <span style=\"color: #00af00; text-decoration-color: #00af00\">64</span>, <span style=\"color: #00af00; text-decoration-color: #00af00\">32</span>)          │           <span style=\"color: #00af00; text-decoration-color: #00af00\">4,640</span> │\n",
              "├──────────────────────────────────────┼─────────────────────────────┼─────────────────┤\n",
              "│ max_pooling2d_1 (<span style=\"color: #0087ff; text-decoration-color: #0087ff\">MaxPooling2D</span>)       │ (<span style=\"color: #00d7ff; text-decoration-color: #00d7ff\">None</span>, <span style=\"color: #00af00; text-decoration-color: #00af00\">32</span>, <span style=\"color: #00af00; text-decoration-color: #00af00\">32</span>, <span style=\"color: #00af00; text-decoration-color: #00af00\">32</span>)          │               <span style=\"color: #00af00; text-decoration-color: #00af00\">0</span> │\n",
              "├──────────────────────────────────────┼─────────────────────────────┼─────────────────┤\n",
              "│ conv2d_2 (<span style=\"color: #0087ff; text-decoration-color: #0087ff\">Conv2D</span>)                    │ (<span style=\"color: #00d7ff; text-decoration-color: #00d7ff\">None</span>, <span style=\"color: #00af00; text-decoration-color: #00af00\">32</span>, <span style=\"color: #00af00; text-decoration-color: #00af00\">32</span>, <span style=\"color: #00af00; text-decoration-color: #00af00\">64</span>)          │          <span style=\"color: #00af00; text-decoration-color: #00af00\">18,496</span> │\n",
              "├──────────────────────────────────────┼─────────────────────────────┼─────────────────┤\n",
              "│ max_pooling2d_2 (<span style=\"color: #0087ff; text-decoration-color: #0087ff\">MaxPooling2D</span>)       │ (<span style=\"color: #00d7ff; text-decoration-color: #00d7ff\">None</span>, <span style=\"color: #00af00; text-decoration-color: #00af00\">16</span>, <span style=\"color: #00af00; text-decoration-color: #00af00\">16</span>, <span style=\"color: #00af00; text-decoration-color: #00af00\">64</span>)          │               <span style=\"color: #00af00; text-decoration-color: #00af00\">0</span> │\n",
              "├──────────────────────────────────────┼─────────────────────────────┼─────────────────┤\n",
              "│ flatten (<span style=\"color: #0087ff; text-decoration-color: #0087ff\">Flatten</span>)                    │ (<span style=\"color: #00d7ff; text-decoration-color: #00d7ff\">None</span>, <span style=\"color: #00af00; text-decoration-color: #00af00\">16384</span>)               │               <span style=\"color: #00af00; text-decoration-color: #00af00\">0</span> │\n",
              "├──────────────────────────────────────┼─────────────────────────────┼─────────────────┤\n",
              "│ dense (<span style=\"color: #0087ff; text-decoration-color: #0087ff\">Dense</span>)                        │ (<span style=\"color: #00d7ff; text-decoration-color: #00d7ff\">None</span>, <span style=\"color: #00af00; text-decoration-color: #00af00\">256</span>)                 │       <span style=\"color: #00af00; text-decoration-color: #00af00\">4,194,560</span> │\n",
              "├──────────────────────────────────────┼─────────────────────────────┼─────────────────┤\n",
              "│ dropout (<span style=\"color: #0087ff; text-decoration-color: #0087ff\">Dropout</span>)                    │ (<span style=\"color: #00d7ff; text-decoration-color: #00d7ff\">None</span>, <span style=\"color: #00af00; text-decoration-color: #00af00\">256</span>)                 │               <span style=\"color: #00af00; text-decoration-color: #00af00\">0</span> │\n",
              "├──────────────────────────────────────┼─────────────────────────────┼─────────────────┤\n",
              "│ dense_1 (<span style=\"color: #0087ff; text-decoration-color: #0087ff\">Dense</span>)                      │ (<span style=\"color: #00d7ff; text-decoration-color: #00d7ff\">None</span>, <span style=\"color: #00af00; text-decoration-color: #00af00\">22</span>)                  │           <span style=\"color: #00af00; text-decoration-color: #00af00\">5,654</span> │\n",
              "└──────────────────────────────────────┴─────────────────────────────┴─────────────────┘\n",
              "</pre>\n"
            ]
          },
          "metadata": {}
        },
        {
          "output_type": "display_data",
          "data": {
            "text/plain": [
              "\u001b[1m Total params: \u001b[0m\u001b[38;5;34m4,223,798\u001b[0m (16.11 MB)\n"
            ],
            "text/html": [
              "<pre style=\"white-space:pre;overflow-x:auto;line-height:normal;font-family:Menlo,'DejaVu Sans Mono',consolas,'Courier New',monospace\"><span style=\"font-weight: bold\"> Total params: </span><span style=\"color: #00af00; text-decoration-color: #00af00\">4,223,798</span> (16.11 MB)\n",
              "</pre>\n"
            ]
          },
          "metadata": {}
        },
        {
          "output_type": "display_data",
          "data": {
            "text/plain": [
              "\u001b[1m Trainable params: \u001b[0m\u001b[38;5;34m4,223,798\u001b[0m (16.11 MB)\n"
            ],
            "text/html": [
              "<pre style=\"white-space:pre;overflow-x:auto;line-height:normal;font-family:Menlo,'DejaVu Sans Mono',consolas,'Courier New',monospace\"><span style=\"font-weight: bold\"> Trainable params: </span><span style=\"color: #00af00; text-decoration-color: #00af00\">4,223,798</span> (16.11 MB)\n",
              "</pre>\n"
            ]
          },
          "metadata": {}
        },
        {
          "output_type": "display_data",
          "data": {
            "text/plain": [
              "\u001b[1m Non-trainable params: \u001b[0m\u001b[38;5;34m0\u001b[0m (0.00 B)\n"
            ],
            "text/html": [
              "<pre style=\"white-space:pre;overflow-x:auto;line-height:normal;font-family:Menlo,'DejaVu Sans Mono',consolas,'Courier New',monospace\"><span style=\"font-weight: bold\"> Non-trainable params: </span><span style=\"color: #00af00; text-decoration-color: #00af00\">0</span> (0.00 B)\n",
              "</pre>\n"
            ]
          },
          "metadata": {}
        }
      ],
      "source": [
        "# Compile the model\n",
        "model.compile(\n",
        "    optimizer='adam',\n",
        "    loss='categorical_crossentropy',\n",
        "    metrics=['accuracy']\n",
        ")\n",
        "\n",
        "# Display model architecture\n",
        "model.summary()"
      ]
    },
    {
      "cell_type": "code",
      "execution_count": 15,
      "metadata": {
        "colab": {
          "base_uri": "https://localhost:8080/"
        },
        "id": "V6MBQl74R501",
        "outputId": "1a0ee477-fabd-4aa3-bda9-4cb6cde4b096"
      },
      "outputs": [
        {
          "output_type": "stream",
          "name": "stderr",
          "text": [
            "/usr/local/lib/python3.11/dist-packages/keras/src/trainers/data_adapters/py_dataset_adapter.py:121: UserWarning: Your `PyDataset` class should call `super().__init__(**kwargs)` in its constructor. `**kwargs` can include `workers`, `use_multiprocessing`, `max_queue_size`. Do not pass these arguments to `fit()`, as they will be ignored.\n",
            "  self._warn_if_super_not_called()\n"
          ]
        },
        {
          "output_type": "stream",
          "name": "stdout",
          "text": [
            "Epoch 1/10\n",
            "\u001b[1m642/642\u001b[0m \u001b[32m━━━━━━━━━━━━━━━━━━━━\u001b[0m\u001b[37m\u001b[0m \u001b[1m267s\u001b[0m 405ms/step - accuracy: 0.2035 - loss: 2.5712 - val_accuracy: 0.3641 - val_loss: 2.0462 - learning_rate: 0.0010\n",
            "Epoch 2/10\n",
            "\u001b[1m642/642\u001b[0m \u001b[32m━━━━━━━━━━━━━━━━━━━━\u001b[0m\u001b[37m\u001b[0m \u001b[1m289s\u001b[0m 450ms/step - accuracy: 0.4115 - loss: 1.8367 - val_accuracy: 0.4080 - val_loss: 1.9250 - learning_rate: 0.0010\n",
            "Epoch 3/10\n",
            "\u001b[1m642/642\u001b[0m \u001b[32m━━━━━━━━━━━━━━━━━━━━\u001b[0m\u001b[37m\u001b[0m \u001b[1m251s\u001b[0m 391ms/step - accuracy: 0.4827 - loss: 1.5929 - val_accuracy: 0.4726 - val_loss: 1.6730 - learning_rate: 0.0010\n",
            "Epoch 4/10\n",
            "\u001b[1m642/642\u001b[0m \u001b[32m━━━━━━━━━━━━━━━━━━━━\u001b[0m\u001b[37m\u001b[0m \u001b[1m258s\u001b[0m 402ms/step - accuracy: 0.5181 - loss: 1.4610 - val_accuracy: 0.5201 - val_loss: 1.5509 - learning_rate: 0.0010\n",
            "Epoch 5/10\n",
            "\u001b[1m642/642\u001b[0m \u001b[32m━━━━━━━━━━━━━━━━━━━━\u001b[0m\u001b[37m\u001b[0m \u001b[1m260s\u001b[0m 405ms/step - accuracy: 0.5522 - loss: 1.3575 - val_accuracy: 0.5427 - val_loss: 1.4337 - learning_rate: 0.0010\n",
            "Epoch 6/10\n",
            "\u001b[1m642/642\u001b[0m \u001b[32m━━━━━━━━━━━━━━━━━━━━\u001b[0m\u001b[37m\u001b[0m \u001b[1m261s\u001b[0m 407ms/step - accuracy: 0.5777 - loss: 1.2592 - val_accuracy: 0.5584 - val_loss: 1.4140 - learning_rate: 0.0010\n",
            "Epoch 7/10\n",
            "\u001b[1m642/642\u001b[0m \u001b[32m━━━━━━━━━━━━━━━━━━━━\u001b[0m\u001b[37m\u001b[0m \u001b[1m260s\u001b[0m 406ms/step - accuracy: 0.6017 - loss: 1.1979 - val_accuracy: 0.5947 - val_loss: 1.2725 - learning_rate: 0.0010\n",
            "Epoch 8/10\n",
            "\u001b[1m642/642\u001b[0m \u001b[32m━━━━━━━━━━━━━━━━━━━━\u001b[0m\u001b[37m\u001b[0m \u001b[1m259s\u001b[0m 404ms/step - accuracy: 0.6133 - loss: 1.1564 - val_accuracy: 0.6003 - val_loss: 1.2595 - learning_rate: 0.0010\n",
            "Epoch 9/10\n",
            "\u001b[1m642/642\u001b[0m \u001b[32m━━━━━━━━━━━━━━━━━━━━\u001b[0m\u001b[37m\u001b[0m \u001b[1m258s\u001b[0m 403ms/step - accuracy: 0.6322 - loss: 1.0844 - val_accuracy: 0.6059 - val_loss: 1.2148 - learning_rate: 0.0010\n",
            "Epoch 10/10\n",
            "\u001b[1m642/642\u001b[0m \u001b[32m━━━━━━━━━━━━━━━━━━━━\u001b[0m\u001b[37m\u001b[0m \u001b[1m291s\u001b[0m 454ms/step - accuracy: 0.6454 - loss: 1.0457 - val_accuracy: 0.6167 - val_loss: 1.2162 - learning_rate: 0.0010\n"
          ]
        }
      ],
      "source": [
        "# 9. Define Callbacks and Train the Model\n",
        "# ---------------------------\n",
        "callbacks = [\n",
        "    EarlyStopping(monitor='val_loss', patience=10, restore_best_weights=True),\n",
        "    ReduceLROnPlateau(monitor='val_loss', factor=0.5, patience=5, min_lr=1e-6),\n",
        "    ModelCheckpoint('best_model.keras', monitor='val_accuracy', save_best_only=True, mode='max')\n",
        "]\n",
        "\n",
        "history = model.fit(\n",
        "    train_data,\n",
        "    epochs=EPOCHS,\n",
        "    validation_data=val_data,\n",
        "    callbacks=callbacks\n",
        ")\n"
      ]
    },
    {
      "cell_type": "code",
      "execution_count": 16,
      "metadata": {
        "id": "6jGlgK1RrTyA",
        "colab": {
          "base_uri": "https://localhost:8080/",
          "height": 1000
        },
        "outputId": "b3bc9deb-a6ae-412e-effc-fce7e33f17e0"
      },
      "outputs": [
        {
          "output_type": "display_data",
          "data": {
            "text/plain": [
              "<Figure size 800x600 with 1 Axes>"
            ],
            "image/png": "[encoded data removed]"
          },
          "metadata": {}
        },
        {
          "output_type": "display_data",
          "data": {
            "text/plain": [
              "<Figure size 800x600 with 1 Axes>"
            ],
            "image/png": "[encoded data removed]"
          },
          "metadata": {}
        },
        {
          "output_type": "stream",
          "name": "stdout",
          "text": [
            "\u001b[1m161/161\u001b[0m \u001b[32m━━━━━━━━━━━━━━━━━━━━\u001b[0m\u001b[37m\u001b[0m \u001b[1m51s\u001b[0m 310ms/step\n"
          ]
        }
      ],
      "source": [
        "# 10. Evaluate the Model and Save Results\n",
        "# ---------------------------\n",
        "# Create directory to save evaluation results\n",
        "Path('evaluation_results').mkdir(exist_ok=True)\n",
        "\n",
        "# Plot training & validation loss\n",
        "plt.figure(figsize=(8, 6))\n",
        "plt.plot(history.history['loss'], label='Training Loss')\n",
        "plt.plot(history.history['val_loss'], label='Validation Loss')\n",
        "plt.title('Loss Progress')\n",
        "plt.xlabel('Epochs')\n",
        "plt.ylabel('Loss')\n",
        "plt.legend()\n",
        "plt.savefig('evaluation_results/loss_curve.png')\n",
        "plt.show()\n",
        "\n",
        "# Plot training & validation accuracy\n",
        "plt.figure(figsize=(8, 6))\n",
        "plt.plot(history.history['accuracy'], label='Training Accuracy')\n",
        "plt.plot(history.history['val_accuracy'], label='Validation Accuracy')\n",
        "plt.title('Accuracy Progress')\n",
        "plt.xlabel('Epochs')\n",
        "plt.ylabel('Accuracy')\n",
        "plt.legend()\n",
        "plt.savefig('evaluation_results/accuracy_curve.png')\n",
        "plt.show()\n",
        "\n",
        "# Generate predictions on validation data for confusion matrix and report\n",
        "val_predictions = model.predict(val_data)\n",
        "y_pred = np.argmax(val_predictions, axis=1)\n",
        "y_true = val_data.classes\n",
        "\n",
        "# Plot and save confusion matrix\n",
        "cm = confusion_matrix(y_true, y_pred)\n",
        "plt.figure(figsize=(10, 8))\n",
        "sns.heatmap(cm, annot=True, fmt='d', cmap='Blues', xticklabels=class_names, yticklabels=class_names)\n",
        "plt.title('Confusion Matrix')\n",
        "plt.ylabel('True Label')\n",
        "plt.xlabel('Predicted Label')\n",
        "plt.tight_layout()\n",
        "plt.savefig('evaluation_results/confusion_matrix.png')\n",
        "plt.close()"
      ]
    },
    {
      "cell_type": "code",
      "execution_count": 17,
      "metadata": {
        "id": "QCO9QbYir4f6",
        "colab": {
          "base_uri": "https://localhost:8080/"
        },
        "outputId": "1ae021b1-01c0-479f-bdcb-3da239e92754"
      },
      "outputs": [
        {
          "output_type": "stream",
          "name": "stdout",
          "text": [
            "\n",
            "Classification Report:\n",
            "                           precision    recall  f1-score   support\n",
            "\n",
            "       Cashew anthracnose       0.50      0.40      0.44       466\n",
            "           Cashew gumosis       0.94      0.88      0.91       466\n",
            "           Cashew healthy       0.74      0.56      0.64       466\n",
            "        Cashew leaf miner       0.53      0.50      0.51       466\n",
            "          Cashew red rust       0.94      0.73      0.82       466\n",
            " Cassava bacterial blight       0.45      0.45      0.45       466\n",
            "       Cassava brown spot       0.60      0.62      0.61       466\n",
            "       Cassava green mite       0.69      0.73      0.71       466\n",
            "          Cassava healthy       0.79      0.71      0.75       466\n",
            "           Cassava mosaic       0.69      0.66      0.67       466\n",
            "      Maize fall armyworm       0.50      0.58      0.53       465\n",
            "         Maize grasshoper       0.69      0.89      0.78       466\n",
            "            Maize healthy       0.56      0.93      0.70       466\n",
            "        Maize leaf beetle       0.76      0.87      0.81       466\n",
            "        Maize leaf blight       0.59      0.55      0.56       466\n",
            "          Maize leaf spot       0.22      0.24      0.23       466\n",
            "       Maize streak virus       0.76      0.57      0.65       466\n",
            "           Tomato healthy       0.64      0.80      0.71       466\n",
            "       Tomato leaf blight       0.47      0.26      0.34       466\n",
            "         Tomato leaf curl       0.55      0.39      0.46       466\n",
            "Tomato septoria leaf spot       0.48      0.37      0.42       466\n",
            "  Tomato verticulium wilt       0.48      0.72      0.57       466\n",
            "\n",
            "                 accuracy                           0.61     10251\n",
            "                macro avg       0.62      0.61      0.60     10251\n",
            "             weighted avg       0.62      0.61      0.60     10251\n",
            "\n"
          ]
        }
      ],
      "source": [
        "# Generate and save classification report\n",
        "report = classification_report(y_true, y_pred, target_names=class_names)\n",
        "with open('evaluation_results/classification_report.txt', 'w') as f:\n",
        "    f.write(report)\n",
        "print(f\"\\nClassification Report:\\n{report}\")"
      ]
    },
    {
      "cell_type": "code",
      "execution_count": 18,
      "metadata": {
        "id": "7zVL6VHvAskl",
        "colab": {
          "base_uri": "https://localhost:8080/"
        },
        "outputId": "c254e90d-c2c3-44d7-d6c2-5382821f09b9"
      },
      "outputs": [
        {
          "output_type": "stream",
          "name": "stdout",
          "text": [
            "Found 3778 images belonging to 22 classes.\n"
          ]
        },
        {
          "output_type": "stream",
          "name": "stderr",
          "text": [
            "/usr/local/lib/python3.11/dist-packages/keras/src/trainers/data_adapters/py_dataset_adapter.py:121: UserWarning: Your `PyDataset` class should call `super().__init__(**kwargs)` in its constructor. `**kwargs` can include `workers`, `use_multiprocessing`, `max_queue_size`. Do not pass these arguments to `fit()`, as they will be ignored.\n",
            "  self._warn_if_super_not_called()\n"
          ]
        },
        {
          "output_type": "stream",
          "name": "stdout",
          "text": [
            "\u001b[1m119/119\u001b[0m \u001b[32m━━━━━━━━━━━━━━━━━━━━\u001b[0m\u001b[37m\u001b[0m \u001b[1m12s\u001b[0m 97ms/step - accuracy: 0.6711 - loss: 0.9753\n",
            "Test Accuracy: 66.75%\n"
          ]
        }
      ],
      "source": [
        "# 11. Evaluate on Test Data and Save the Model\n",
        "# ---------------------------\n",
        "# Create test data generator\n",
        "test_datagen = ImageDataGenerator(rescale=1.0 / 255)\n",
        "test_generator = test_datagen.flow_from_directory(\n",
        "    TEST_DATA_PATH,\n",
        "    target_size=(IMG_HEIGHT, IMG_WIDTH),\n",
        "    batch_size=32,\n",
        "    class_mode='categorical'\n",
        ")\n",
        "\n",
        "# Evaluate model on unseen test data\n",
        "test_loss, test_accuracy = model.evaluate(test_generator)\n",
        "print(f\"Test Accuracy: {test_accuracy * 100:.2f}%\")"
      ]
    },
    {
      "cell_type": "code",
      "execution_count": 19,
      "metadata": {
        "id": "w2axsnjSBEY-",
        "colab": {
          "base_uri": "https://localhost:8080/"
        },
        "outputId": "206bed2f-e6c7-4b02-8082-3eb55cd55072"
      },
      "outputs": [
        {
          "output_type": "stream",
          "name": "stderr",
          "text": [
            "WARNING:absl:You are saving your model as an HDF5 file via `model.save()` or `keras.saving.save_model(model)`. This file format is considered legacy. We recommend using instead the native Keras format, e.g. `model.save('my_model.keras')` or `keras.saving.save_model(model, 'my_model.keras')`. \n"
          ]
        }
      ],
      "source": [
        "model.save('plant_disease_model.h5')"
      ]
    }
  ],
  "metadata": {
    "colab": {
      "provenance": [],
      "gpuType": "T4",
      "mount_file_id": "1aDhSmQr0kPn9s5qomrSye46Yptd-SHZo",
      "authorship_tag": "ABX9TyP5Ubl4QVYYJ3R17va9nUbj",
      "include_colab_link": true
    },
    "kernelspec": {
      "display_name": "Python 3",
      "name": "python3"
    },
    "language_info": {
      "name": "python"
    },
    "accelerator": "GPU"
  },
  "nbformat": 4,
  "nbformat_minor": 0
}