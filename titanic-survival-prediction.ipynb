{
 "cells": [
  {
   "cell_type": "code",
   "execution_count": 1,
   "id": "ceb9f807",
   "metadata": {
    "_cell_guid": "b1076dfc-b9ad-4769-8c92-a6c4dae69d19",
    "_uuid": "8f2839f25d086af736a60e9eeb907d3b93b6e0e5",
    "execution": {
     "iopub.execute_input": "2025-03-06T23:39:05.856820Z",
     "iopub.status.busy": "2025-03-06T23:39:05.856517Z",
     "iopub.status.idle": "2025-03-06T23:39:09.289216Z",
     "shell.execute_reply": "2025-03-06T23:39:09.287918Z"
    },
    "papermill": {
     "duration": 3.440849,
     "end_time": "2025-03-06T23:39:09.291072",
     "exception": false,
     "start_time": "2025-03-06T23:39:05.850223",
     "status": "completed"
    },
    "tags": []
   },
   "outputs": [
    {
     "data": {
      "text/html": [
       "<div>\n",
       "<style scoped>\n",
       "    .dataframe tbody tr th:only-of-type {\n",
       "        vertical-align: middle;\n",
       "    }\n",
       "\n",
       "    .dataframe tbody tr th {\n",
       "        vertical-align: top;\n",
       "    }\n",
       "\n",
       "    .dataframe thead th {\n",
       "        text-align: right;\n",
       "    }\n",
       "</style>\n",
       "<table border=\"1\" class=\"dataframe\">\n",
       "  <thead>\n",
       "    <tr style=\"text-align: right;\">\n",
       "      <th></th>\n",
       "      <th>PassengerId</th>\n",
       "      <th>Pclass</th>\n",
       "      <th>Name</th>\n",
       "      <th>Sex</th>\n",
       "      <th>Age</th>\n",
       "      <th>SibSp</th>\n",
       "      <th>Parch</th>\n",
       "      <th>Ticket</th>\n",
       "      <th>Fare</th>\n",
       "      <th>Cabin</th>\n",
       "      <th>Embarked</th>\n",
       "    </tr>\n",
       "  </thead>\n",
       "  <tbody>\n",
       "    <tr>\n",
       "      <th>0</th>\n",
       "      <td>892</td>\n",
       "      <td>3</td>\n",
       "      <td>Kelly, Mr. James</td>\n",
       "      <td>male</td>\n",
       "      <td>34.5</td>\n",
       "      <td>0</td>\n",
       "      <td>0</td>\n",
       "      <td>330911</td>\n",
       "      <td>7.8292</td>\n",
       "      <td>NaN</td>\n",
       "      <td>Q</td>\n",
       "    </tr>\n",
       "    <tr>\n",
       "      <th>1</th>\n",
       "      <td>893</td>\n",
       "      <td>3</td>\n",
       "      <td>Wilkes, Mrs. James (Ellen Needs)</td>\n",
       "      <td>female</td>\n",
       "      <td>47.0</td>\n",
       "      <td>1</td>\n",
       "      <td>0</td>\n",
       "      <td>363272</td>\n",
       "      <td>7.0000</td>\n",
       "      <td>NaN</td>\n",
       "      <td>S</td>\n",
       "    </tr>\n",
       "    <tr>\n",
       "      <th>2</th>\n",
       "      <td>894</td>\n",
       "      <td>2</td>\n",
       "      <td>Myles, Mr. Thomas Francis</td>\n",
       "      <td>male</td>\n",
       "      <td>62.0</td>\n",
       "      <td>0</td>\n",
       "      <td>0</td>\n",
       "      <td>240276</td>\n",
       "      <td>9.6875</td>\n",
       "      <td>NaN</td>\n",
       "      <td>Q</td>\n",
       "    </tr>\n",
       "    <tr>\n",
       "      <th>3</th>\n",
       "      <td>895</td>\n",
       "      <td>3</td>\n",
       "      <td>Wirz, Mr. Albert</td>\n",
       "      <td>male</td>\n",
       "      <td>27.0</td>\n",
       "      <td>0</td>\n",
       "      <td>0</td>\n",
       "      <td>315154</td>\n",
       "      <td>8.6625</td>\n",
       "      <td>NaN</td>\n",
       "      <td>S</td>\n",
       "    </tr>\n",
       "    <tr>\n",
       "      <th>4</th>\n",
       "      <td>896</td>\n",
       "      <td>3</td>\n",
       "      <td>Hirvonen, Mrs. Alexander (Helga E Lindqvist)</td>\n",
       "      <td>female</td>\n",
       "      <td>22.0</td>\n",
       "      <td>1</td>\n",
       "      <td>1</td>\n",
       "      <td>3101298</td>\n",
       "      <td>12.2875</td>\n",
       "      <td>NaN</td>\n",
       "      <td>S</td>\n",
       "    </tr>\n",
       "  </tbody>\n",
       "</table>\n",
       "</div>"
      ],
      "text/plain": [
       "   PassengerId  Pclass                                          Name     Sex  \\\n",
       "0          892       3                              Kelly, Mr. James    male   \n",
       "1          893       3              Wilkes, Mrs. James (Ellen Needs)  female   \n",
       "2          894       2                     Myles, Mr. Thomas Francis    male   \n",
       "3          895       3                              Wirz, Mr. Albert    male   \n",
       "4          896       3  Hirvonen, Mrs. Alexander (Helga E Lindqvist)  female   \n",
       "\n",
       "    Age  SibSp  Parch   Ticket     Fare Cabin Embarked  \n",
       "0  34.5      0      0   330911   7.8292   NaN        Q  \n",
       "1  47.0      1      0   363272   7.0000   NaN        S  \n",
       "2  62.0      0      0   240276   9.6875   NaN        Q  \n",
       "3  27.0      0      0   315154   8.6625   NaN        S  \n",
       "4  22.0      1      1  3101298  12.2875   NaN        S  "
      ]
     },
     "execution_count": 1,
     "metadata": {},
     "output_type": "execute_result"
    }
   ],
   "source": [
    "import numpy as np\n",
    "import pandas as pd \n",
    "import seaborn as sns\n",
    "import matplotlib.pyplot as plt\n",
    "\n",
    "df = pd.read_csv(\"/kaggle/input/titanic/train.csv\")\n",
    "test = pd.read_csv(\"/kaggle/input/titanic/test.csv\")\n",
    "test.head()"
   ]
  },
  {
   "cell_type": "code",
   "execution_count": 2,
   "id": "9c30ca88",
   "metadata": {
    "execution": {
     "iopub.execute_input": "2025-03-06T23:39:09.301544Z",
     "iopub.status.busy": "2025-03-06T23:39:09.301232Z",
     "iopub.status.idle": "2025-03-06T23:39:09.366685Z",
     "shell.execute_reply": "2025-03-06T23:39:09.365498Z"
    },
    "papermill": {
     "duration": 0.071685,
     "end_time": "2025-03-06T23:39:09.367913",
     "exception": false,
     "start_time": "2025-03-06T23:39:09.296228",
     "status": "completed"
    },
    "tags": []
   },
   "outputs": [
    {
     "name": "stdout",
     "output_type": "stream",
     "text": [
      "DATA QUALITY:\n",
      "--------------------------------------------------\n",
      " COMPLETENESS CHECK:\n",
      "\n",
      "          Missing Values  Percent Missing\n",
      "Age                  177        19.865320\n",
      "Cabin                687        77.104377\n",
      "Embarked               2         0.224467\n",
      "-------------------------------------------------- \n",
      " DATA INFORAMTION:\n",
      "\n",
      "<class 'pandas.core.frame.DataFrame'>\n",
      "RangeIndex: 891 entries, 0 to 890\n",
      "Data columns (total 12 columns):\n",
      " #   Column       Non-Null Count  Dtype  \n",
      "---  ------       --------------  -----  \n",
      " 0   PassengerId  891 non-null    int64  \n",
      " 1   Survived     891 non-null    int64  \n",
      " 2   Pclass       891 non-null    int64  \n",
      " 3   Name         891 non-null    object \n",
      " 4   Sex          891 non-null    object \n",
      " 5   Age          714 non-null    float64\n",
      " 6   SibSp        891 non-null    int64  \n",
      " 7   Parch        891 non-null    int64  \n",
      " 8   Ticket       891 non-null    object \n",
      " 9   Fare         891 non-null    float64\n",
      " 10  Cabin        204 non-null    object \n",
      " 11  Embarked     889 non-null    object \n",
      "dtypes: float64(2), int64(5), object(5)\n",
      "memory usage: 83.7+ KB\n",
      "-------------------------------------------------- \n",
      " NUMBER OF DUPLICATED VALUES: 0\n",
      "-------------------------------------------------- \n",
      " SOME NUMERICAL FEATURES' SUMMARIES:\n",
      "\n"
     ]
    },
    {
     "data": {
      "text/html": [
       "<div>\n",
       "<style scoped>\n",
       "    .dataframe tbody tr th:only-of-type {\n",
       "        vertical-align: middle;\n",
       "    }\n",
       "\n",
       "    .dataframe tbody tr th {\n",
       "        vertical-align: top;\n",
       "    }\n",
       "\n",
       "    .dataframe thead th {\n",
       "        text-align: right;\n",
       "    }\n",
       "</style>\n",
       "<table border=\"1\" class=\"dataframe\">\n",
       "  <thead>\n",
       "    <tr style=\"text-align: right;\">\n",
       "      <th></th>\n",
       "      <th>Age</th>\n",
       "      <th>Fare</th>\n",
       "    </tr>\n",
       "  </thead>\n",
       "  <tbody>\n",
       "    <tr>\n",
       "      <th>count</th>\n",
       "      <td>714.000000</td>\n",
       "      <td>891.000000</td>\n",
       "    </tr>\n",
       "    <tr>\n",
       "      <th>mean</th>\n",
       "      <td>29.699118</td>\n",
       "      <td>32.204208</td>\n",
       "    </tr>\n",
       "    <tr>\n",
       "      <th>std</th>\n",
       "      <td>14.526497</td>\n",
       "      <td>49.693429</td>\n",
       "    </tr>\n",
       "    <tr>\n",
       "      <th>min</th>\n",
       "      <td>0.420000</td>\n",
       "      <td>0.000000</td>\n",
       "    </tr>\n",
       "    <tr>\n",
       "      <th>25%</th>\n",
       "      <td>20.125000</td>\n",
       "      <td>7.910400</td>\n",
       "    </tr>\n",
       "    <tr>\n",
       "      <th>50%</th>\n",
       "      <td>28.000000</td>\n",
       "      <td>14.454200</td>\n",
       "    </tr>\n",
       "    <tr>\n",
       "      <th>75%</th>\n",
       "      <td>38.000000</td>\n",
       "      <td>31.000000</td>\n",
       "    </tr>\n",
       "    <tr>\n",
       "      <th>max</th>\n",
       "      <td>80.000000</td>\n",
       "      <td>512.329200</td>\n",
       "    </tr>\n",
       "  </tbody>\n",
       "</table>\n",
       "</div>"
      ],
      "text/plain": [
       "              Age        Fare\n",
       "count  714.000000  891.000000\n",
       "mean    29.699118   32.204208\n",
       "std     14.526497   49.693429\n",
       "min      0.420000    0.000000\n",
       "25%     20.125000    7.910400\n",
       "50%     28.000000   14.454200\n",
       "75%     38.000000   31.000000\n",
       "max     80.000000  512.329200"
      ]
     },
     "execution_count": 2,
     "metadata": {},
     "output_type": "execute_result"
    }
   ],
   "source": [
    "print(\"DATA QUALITY:\")\n",
    "print(\"-\" * 50)\n",
    "\n",
    "print(\" COMPLETENESS CHECK:\\n\")\n",
    "\n",
    "# Completeness Check (Missing Values)\n",
    "missing_values = df.isna().sum()[df.isnull().sum() > 0]\n",
    "missing_percent = (missing_values / len(df)) * 100\n",
    "\n",
    "# Combine missing count and percentage into a DataFrame\n",
    "missing_data = pd.DataFrame({\n",
    "    \"Missing Values\": missing_values,\n",
    "    \"Percent Missing\": missing_percent\n",
    "})\n",
    "missing_data = missing_data[missing_data[\"Missing Values\"] > 0]\n",
    "print(missing_data)\n",
    "print(\"-\"*50,'\\n','DATA INFORAMTION:\\n')\n",
    "df.info()\n",
    "print(\"-\"*50,'\\n','NUMBER OF DUPLICATED VALUES:', df.duplicated().sum())\n",
    "print(\"-\"*50,'\\n','SOME NUMERICAL FEATURES\\' SUMMARIES:\\n')\n",
    "df.describe()[[\"Age\",\"Fare\"]]"
   ]
  },
  {
   "cell_type": "code",
   "execution_count": 3,
   "id": "36e99531",
   "metadata": {
    "execution": {
     "iopub.execute_input": "2025-03-06T23:39:09.378552Z",
     "iopub.status.busy": "2025-03-06T23:39:09.378208Z",
     "iopub.status.idle": "2025-03-06T23:39:09.390426Z",
     "shell.execute_reply": "2025-03-06T23:39:09.389010Z"
    },
    "papermill": {
     "duration": 0.019864,
     "end_time": "2025-03-06T23:39:09.392650",
     "exception": false,
     "start_time": "2025-03-06T23:39:09.372786",
     "status": "completed"
    },
    "tags": []
   },
   "outputs": [
    {
     "name": "stdout",
     "output_type": "stream",
     "text": [
      "Pclass :  [3 1 2]\n",
      "SibSp :  [1 0 3 4 2 5 8]\n",
      "Parch :  [0 1 2 5 3 4 6]\n",
      "Embarked :  ['S' 'C' 'Q' nan]\n",
      "Cabin\n",
      "C23 C25 C27    4\n",
      "G6             4\n",
      "B96 B98        4\n",
      "F2             3\n",
      "C22 C26        3\n",
      "              ..\n",
      "C101           1\n",
      "B94            1\n",
      "B86            1\n",
      "B82 B84        1\n",
      "T              1\n",
      "Name: PassengerId, Length: 147, dtype: int64\n",
      "Embarked\n",
      "S    644\n",
      "C    168\n",
      "Q     77\n",
      "Name: PassengerId, dtype: int64\n"
     ]
    }
   ],
   "source": [
    "for col in [\"Pclass\",\"SibSp\",\"Parch\",\"Embarked\"]:\n",
    "    print(f\"{col} : \",df[col].unique())\n",
    "print(df.groupby(\"Cabin\")[\"PassengerId\"].count().sort_values(ascending=False))\n",
    "print(df.groupby(\"Embarked\")[\"PassengerId\"].count().sort_values(ascending=False))"
   ]
  },
  {
   "cell_type": "markdown",
   "id": "20f0259d",
   "metadata": {
    "papermill": {
     "duration": 0.004146,
     "end_time": "2025-03-06T23:39:09.401808",
     "exception": false,
     "start_time": "2025-03-06T23:39:09.397662",
     "status": "completed"
    },
    "tags": []
   },
   "source": [
    "# Preprocessnig:"
   ]
  },
  {
   "cell_type": "code",
   "execution_count": 4,
   "id": "01b289ba",
   "metadata": {
    "execution": {
     "iopub.execute_input": "2025-03-06T23:39:09.411993Z",
     "iopub.status.busy": "2025-03-06T23:39:09.411610Z",
     "iopub.status.idle": "2025-03-06T23:39:09.419750Z",
     "shell.execute_reply": "2025-03-06T23:39:09.418647Z"
    },
    "papermill": {
     "duration": 0.014946,
     "end_time": "2025-03-06T23:39:09.421150",
     "exception": false,
     "start_time": "2025-03-06T23:39:09.406204",
     "status": "completed"
    },
    "tags": []
   },
   "outputs": [],
   "source": [
    "# Dropping irrelevant features:\n",
    "df.drop(columns=[\"PassengerId\", \"Ticket\"], inplace= True)"
   ]
  },
  {
   "cell_type": "markdown",
   "id": "6c6bbdb7",
   "metadata": {
    "papermill": {
     "duration": 0.004038,
     "end_time": "2025-03-06T23:39:09.429962",
     "exception": false,
     "start_time": "2025-03-06T23:39:09.425924",
     "status": "completed"
    },
    "tags": []
   },
   "source": [
    "## 1. Handling some Missing Values: "
   ]
  },
  {
   "cell_type": "code",
   "execution_count": 5,
   "id": "bd58a97a",
   "metadata": {
    "execution": {
     "iopub.execute_input": "2025-03-06T23:39:09.439787Z",
     "iopub.status.busy": "2025-03-06T23:39:09.439485Z",
     "iopub.status.idle": "2025-03-06T23:39:10.161345Z",
     "shell.execute_reply": "2025-03-06T23:39:10.160371Z"
    },
    "papermill": {
     "duration": 0.729278,
     "end_time": "2025-03-06T23:39:10.163532",
     "exception": false,
     "start_time": "2025-03-06T23:39:09.434254",
     "status": "completed"
    },
    "tags": []
   },
   "outputs": [],
   "source": [
    "from sklearn.impute import SimpleImputer"
   ]
  },
  {
   "cell_type": "code",
   "execution_count": 6,
   "id": "263019c5",
   "metadata": {
    "execution": {
     "iopub.execute_input": "2025-03-06T23:39:10.178355Z",
     "iopub.status.busy": "2025-03-06T23:39:10.177900Z",
     "iopub.status.idle": "2025-03-06T23:39:10.184317Z",
     "shell.execute_reply": "2025-03-06T23:39:10.183122Z"
    },
    "papermill": {
     "duration": 0.016113,
     "end_time": "2025-03-06T23:39:10.186420",
     "exception": false,
     "start_time": "2025-03-06T23:39:10.170307",
     "status": "completed"
    },
    "tags": []
   },
   "outputs": [],
   "source": [
    "df.fillna({\"Embarked\": \"S\"}, inplace=True)"
   ]
  },
  {
   "cell_type": "code",
   "execution_count": 7,
   "id": "c412627e",
   "metadata": {
    "execution": {
     "iopub.execute_input": "2025-03-06T23:39:10.197838Z",
     "iopub.status.busy": "2025-03-06T23:39:10.197463Z",
     "iopub.status.idle": "2025-03-06T23:39:10.206455Z",
     "shell.execute_reply": "2025-03-06T23:39:10.205168Z"
    },
    "papermill": {
     "duration": 0.016873,
     "end_time": "2025-03-06T23:39:10.208497",
     "exception": false,
     "start_time": "2025-03-06T23:39:10.191624",
     "status": "completed"
    },
    "tags": []
   },
   "outputs": [],
   "source": [
    "imputer_age = SimpleImputer(strategy='mean')\n",
    "df[\"Age\"] = imputer_age.fit_transform(df[[\"Age\"]])"
   ]
  },
  {
   "cell_type": "markdown",
   "id": "61e0b4ba",
   "metadata": {
    "papermill": {
     "duration": 0.004296,
     "end_time": "2025-03-06T23:39:10.217778",
     "exception": false,
     "start_time": "2025-03-06T23:39:10.213482",
     "status": "completed"
    },
    "tags": []
   },
   "source": [
    "## 2. Handling Categorical / Textual variables:"
   ]
  },
  {
   "cell_type": "code",
   "execution_count": 8,
   "id": "9c4a86f2",
   "metadata": {
    "execution": {
     "iopub.execute_input": "2025-03-06T23:39:10.228197Z",
     "iopub.status.busy": "2025-03-06T23:39:10.227805Z",
     "iopub.status.idle": "2025-03-06T23:39:10.233186Z",
     "shell.execute_reply": "2025-03-06T23:39:10.232143Z"
    },
    "papermill": {
     "duration": 0.012871,
     "end_time": "2025-03-06T23:39:10.235204",
     "exception": false,
     "start_time": "2025-03-06T23:39:10.222333",
     "status": "completed"
    },
    "tags": []
   },
   "outputs": [],
   "source": [
    "from sklearn.preprocessing import LabelEncoder, OneHotEncoder\n",
    "\n",
    "le = LabelEncoder()\n",
    "df[\"Sex\"] = le.fit_transform(df[\"Sex\"])"
   ]
  },
  {
   "cell_type": "code",
   "execution_count": 9,
   "id": "6f61526b",
   "metadata": {
    "execution": {
     "iopub.execute_input": "2025-03-06T23:39:10.245941Z",
     "iopub.status.busy": "2025-03-06T23:39:10.245646Z",
     "iopub.status.idle": "2025-03-06T23:39:10.258451Z",
     "shell.execute_reply": "2025-03-06T23:39:10.257254Z"
    },
    "papermill": {
     "duration": 0.019991,
     "end_time": "2025-03-06T23:39:10.260267",
     "exception": false,
     "start_time": "2025-03-06T23:39:10.240276",
     "status": "completed"
    },
    "tags": []
   },
   "outputs": [],
   "source": [
    "df[\"Title\"] = df[\"Name\"].str.extract(\" ([A-Za-z]+)\\.\")\n",
    "test[\"Title\"] = test[\"Name\"].str.extract(\" ([A-Za-z]+)\\.\")\n",
    "\n",
    "df[\"Cabin_Letter\"] = df[\"Cabin\"].str[0].fillna(\"M\")\n",
    "test[\"Cabin_Letter\"] = test[\"Cabin\"].str[0].fillna(\"M\")"
   ]
  },
  {
   "cell_type": "code",
   "execution_count": 10,
   "id": "8a1e6e2f",
   "metadata": {
    "execution": {
     "iopub.execute_input": "2025-03-06T23:39:10.271580Z",
     "iopub.status.busy": "2025-03-06T23:39:10.271230Z",
     "iopub.status.idle": "2025-03-06T23:39:10.286690Z",
     "shell.execute_reply": "2025-03-06T23:39:10.285857Z"
    },
    "papermill": {
     "duration": 0.02265,
     "end_time": "2025-03-06T23:39:10.288444",
     "exception": false,
     "start_time": "2025-03-06T23:39:10.265794",
     "status": "completed"
    },
    "tags": []
   },
   "outputs": [],
   "source": [
    "encoder = OneHotEncoder(drop=\"first\", sparse_output=False)\n",
    "\n",
    "encoded_embarked = encoder.fit_transform(df[[\"Embarked\"]])\n",
    "encoded_df = pd.DataFrame(encoded_embarked, columns=encoder.get_feature_names_out([\"Embarked\"]))\n",
    "df = pd.concat([df, encoded_df], axis=1)\n",
    "\n",
    "encoded_embarked = encoder.fit_transform(test[[\"Embarked\"]])\n",
    "encoded_df_test = pd.DataFrame(encoded_embarked, columns=encoder.get_feature_names_out([\"Embarked\"]))\n",
    "test = pd.concat([test, encoded_df_test], axis=1)"
   ]
  },
  {
   "cell_type": "code",
   "execution_count": 11,
   "id": "725780bd",
   "metadata": {
    "execution": {
     "iopub.execute_input": "2025-03-06T23:39:10.298860Z",
     "iopub.status.busy": "2025-03-06T23:39:10.298547Z",
     "iopub.status.idle": "2025-03-06T23:39:10.310348Z",
     "shell.execute_reply": "2025-03-06T23:39:10.308840Z"
    },
    "papermill": {
     "duration": 0.018847,
     "end_time": "2025-03-06T23:39:10.312177",
     "exception": false,
     "start_time": "2025-03-06T23:39:10.293330",
     "status": "completed"
    },
    "tags": []
   },
   "outputs": [],
   "source": [
    "all_titles_cab = set(df[\"Cabin_Letter\"].unique()).union(set(test[\"Cabin_Letter\"].unique()))\n",
    "\n",
    "encoder = OneHotEncoder(categories=[list(all_titles_cab)], drop=\"first\", sparse_output=False)\n",
    "\n",
    "encoded_train = encoder.fit_transform(df[[\"Cabin_Letter\"]])\n",
    "encoded_df0 = pd.DataFrame(encoded_train, columns=encoder.get_feature_names_out([\"Cabin_Letter\"]))\n",
    "df = pd.concat([df, encoded_df0], axis=1)\n",
    "\n",
    "encoded_cabin = encoder.fit_transform(test[[\"Cabin_Letter\"]])\n",
    "encoded_cabin_df = pd.DataFrame(encoded_cabin, columns=encoder.get_feature_names_out([\"Cabin_Letter\"]))\n",
    "test = pd.concat([test, encoded_cabin_df], axis=1)\n"
   ]
  },
  {
   "cell_type": "code",
   "execution_count": 12,
   "id": "ad766841",
   "metadata": {
    "execution": {
     "iopub.execute_input": "2025-03-06T23:39:10.324360Z",
     "iopub.status.busy": "2025-03-06T23:39:10.323974Z",
     "iopub.status.idle": "2025-03-06T23:39:10.338650Z",
     "shell.execute_reply": "2025-03-06T23:39:10.337435Z"
    },
    "papermill": {
     "duration": 0.022839,
     "end_time": "2025-03-06T23:39:10.340599",
     "exception": false,
     "start_time": "2025-03-06T23:39:10.317760",
     "status": "completed"
    },
    "tags": []
   },
   "outputs": [],
   "source": [
    "all_titles = set(df[\"Title\"].unique()).union(set(test[\"Title\"].unique()))\n",
    "\n",
    "encoder = OneHotEncoder(categories=[list(all_titles)], drop=\"first\", sparse_output=False)\n",
    "\n",
    "encoded_train = encoder.fit_transform(df[[\"Title\"]])\n",
    "encoded_df0 = pd.DataFrame(encoded_train, columns=encoder.get_feature_names_out([\"Title\"]))\n",
    "df = pd.concat([df, encoded_df0], axis=1)\n",
    "\n",
    "encoded_test = encoder.transform(test[[\"Title\"]])\n",
    "encoded_df1 = pd.DataFrame(encoded_test, columns=encoder.get_feature_names_out([\"Title\"]))\n",
    "test = pd.concat([test, encoded_df1], axis=1)"
   ]
  },
  {
   "cell_type": "markdown",
   "id": "cc1cb736",
   "metadata": {
    "papermill": {
     "duration": 0.006604,
     "end_time": "2025-03-06T23:39:10.355098",
     "exception": false,
     "start_time": "2025-03-06T23:39:10.348494",
     "status": "completed"
    },
    "tags": []
   },
   "source": [
    "# Logistic Regression:"
   ]
  },
  {
   "cell_type": "code",
   "execution_count": 13,
   "id": "be7b2c64",
   "metadata": {
    "execution": {
     "iopub.execute_input": "2025-03-06T23:39:10.367820Z",
     "iopub.status.busy": "2025-03-06T23:39:10.367460Z",
     "iopub.status.idle": "2025-03-06T23:39:10.371877Z",
     "shell.execute_reply": "2025-03-06T23:39:10.371141Z"
    },
    "papermill": {
     "duration": 0.012525,
     "end_time": "2025-03-06T23:39:10.373827",
     "exception": false,
     "start_time": "2025-03-06T23:39:10.361302",
     "status": "completed"
    },
    "tags": []
   },
   "outputs": [],
   "source": [
    "from sklearn.model_selection import train_test_split\n",
    "from sklearn.linear_model import LogisticRegression\n",
    "from sklearn.metrics import accuracy_score, classification_report"
   ]
  },
  {
   "cell_type": "code",
   "execution_count": 14,
   "id": "256e7a41",
   "metadata": {
    "execution": {
     "iopub.execute_input": "2025-03-06T23:39:10.388917Z",
     "iopub.status.busy": "2025-03-06T23:39:10.388473Z",
     "iopub.status.idle": "2025-03-06T23:39:10.394487Z",
     "shell.execute_reply": "2025-03-06T23:39:10.393169Z"
    },
    "papermill": {
     "duration": 0.014869,
     "end_time": "2025-03-06T23:39:10.395810",
     "exception": false,
     "start_time": "2025-03-06T23:39:10.380941",
     "status": "completed"
    },
    "tags": []
   },
   "outputs": [],
   "source": [
    "X = df.drop(columns=[\"Name\", \"Cabin\",\"Survived\", \"Title\", \"Embarked\",\"Cabin_Letter\"]) \n",
    "y = df[\"Survived\"]"
   ]
  },
  {
   "cell_type": "code",
   "execution_count": 15,
   "id": "205e6bbf",
   "metadata": {
    "execution": {
     "iopub.execute_input": "2025-03-06T23:39:10.406555Z",
     "iopub.status.busy": "2025-03-06T23:39:10.406155Z",
     "iopub.status.idle": "2025-03-06T23:39:10.413411Z",
     "shell.execute_reply": "2025-03-06T23:39:10.412609Z"
    },
    "papermill": {
     "duration": 0.013945,
     "end_time": "2025-03-06T23:39:10.414810",
     "exception": false,
     "start_time": "2025-03-06T23:39:10.400865",
     "status": "completed"
    },
    "tags": []
   },
   "outputs": [],
   "source": [
    "X_train, X_val, y_train, y_val = train_test_split(X, y, test_size=0.2, stratify=y , random_state=42)"
   ]
  },
  {
   "cell_type": "code",
   "execution_count": 16,
   "id": "5632e7e1",
   "metadata": {
    "execution": {
     "iopub.execute_input": "2025-03-06T23:39:10.425637Z",
     "iopub.status.busy": "2025-03-06T23:39:10.425304Z",
     "iopub.status.idle": "2025-03-06T23:39:10.534178Z",
     "shell.execute_reply": "2025-03-06T23:39:10.532855Z"
    },
    "papermill": {
     "duration": 0.116123,
     "end_time": "2025-03-06T23:39:10.535771",
     "exception": false,
     "start_time": "2025-03-06T23:39:10.419648",
     "status": "completed"
    },
    "tags": []
   },
   "outputs": [
    {
     "data": {
      "text/html": [
       "<style>#sk-container-id-1 {color: black;background-color: white;}#sk-container-id-1 pre{padding: 0;}#sk-container-id-1 div.sk-toggleable {background-color: white;}#sk-container-id-1 label.sk-toggleable__label {cursor: pointer;display: block;width: 100%;margin-bottom: 0;padding: 0.3em;box-sizing: border-box;text-align: center;}#sk-container-id-1 label.sk-toggleable__label-arrow:before {content: \"▸\";float: left;margin-right: 0.25em;color: #696969;}#sk-container-id-1 label.sk-toggleable__label-arrow:hover:before {color: black;}#sk-container-id-1 div.sk-estimator:hover label.sk-toggleable__label-arrow:before {color: black;}#sk-container-id-1 div.sk-toggleable__content {max-height: 0;max-width: 0;overflow: hidden;text-align: left;background-color: #f0f8ff;}#sk-container-id-1 div.sk-toggleable__content pre {margin: 0.2em;color: black;border-radius: 0.25em;background-color: #f0f8ff;}#sk-container-id-1 input.sk-toggleable__control:checked~div.sk-toggleable__content {max-height: 200px;max-width: 100%;overflow: auto;}#sk-container-id-1 input.sk-toggleable__control:checked~label.sk-toggleable__label-arrow:before {content: \"▾\";}#sk-container-id-1 div.sk-estimator input.sk-toggleable__control:checked~label.sk-toggleable__label {background-color: #d4ebff;}#sk-container-id-1 div.sk-label input.sk-toggleable__control:checked~label.sk-toggleable__label {background-color: #d4ebff;}#sk-container-id-1 input.sk-hidden--visually {border: 0;clip: rect(1px 1px 1px 1px);clip: rect(1px, 1px, 1px, 1px);height: 1px;margin: -1px;overflow: hidden;padding: 0;position: absolute;width: 1px;}#sk-container-id-1 div.sk-estimator {font-family: monospace;background-color: #f0f8ff;border: 1px dotted black;border-radius: 0.25em;box-sizing: border-box;margin-bottom: 0.5em;}#sk-container-id-1 div.sk-estimator:hover {background-color: #d4ebff;}#sk-container-id-1 div.sk-parallel-item::after {content: \"\";width: 100%;border-bottom: 1px solid gray;flex-grow: 1;}#sk-container-id-1 div.sk-label:hover label.sk-toggleable__label {background-color: #d4ebff;}#sk-container-id-1 div.sk-serial::before {content: \"\";position: absolute;border-left: 1px solid gray;box-sizing: border-box;top: 0;bottom: 0;left: 50%;z-index: 0;}#sk-container-id-1 div.sk-serial {display: flex;flex-direction: column;align-items: center;background-color: white;padding-right: 0.2em;padding-left: 0.2em;position: relative;}#sk-container-id-1 div.sk-item {position: relative;z-index: 1;}#sk-container-id-1 div.sk-parallel {display: flex;align-items: stretch;justify-content: center;background-color: white;position: relative;}#sk-container-id-1 div.sk-item::before, #sk-container-id-1 div.sk-parallel-item::before {content: \"\";position: absolute;border-left: 1px solid gray;box-sizing: border-box;top: 0;bottom: 0;left: 50%;z-index: -1;}#sk-container-id-1 div.sk-parallel-item {display: flex;flex-direction: column;z-index: 1;position: relative;background-color: white;}#sk-container-id-1 div.sk-parallel-item:first-child::after {align-self: flex-end;width: 50%;}#sk-container-id-1 div.sk-parallel-item:last-child::after {align-self: flex-start;width: 50%;}#sk-container-id-1 div.sk-parallel-item:only-child::after {width: 0;}#sk-container-id-1 div.sk-dashed-wrapped {border: 1px dashed gray;margin: 0 0.4em 0.5em 0.4em;box-sizing: border-box;padding-bottom: 0.4em;background-color: white;}#sk-container-id-1 div.sk-label label {font-family: monospace;font-weight: bold;display: inline-block;line-height: 1.2em;}#sk-container-id-1 div.sk-label-container {text-align: center;}#sk-container-id-1 div.sk-container {/* jupyter's `normalize.less` sets `[hidden] { display: none; }` but bootstrap.min.css set `[hidden] { display: none !important; }` so we also need the `!important` here to be able to override the default hidden behavior on the sphinx rendered scikit-learn.org. See: https://github.com/scikit-learn/scikit-learn/issues/21755 */display: inline-block !important;position: relative;}#sk-container-id-1 div.sk-text-repr-fallback {display: none;}</style><div id=\"sk-container-id-1\" class=\"sk-top-container\"><div class=\"sk-text-repr-fallback\"><pre>LogisticRegression(max_iter=800)</pre><b>In a Jupyter environment, please rerun this cell to show the HTML representation or trust the notebook. <br />On GitHub, the HTML representation is unable to render, please try loading this page with nbviewer.org.</b></div><div class=\"sk-container\" hidden><div class=\"sk-item\"><div class=\"sk-estimator sk-toggleable\"><input class=\"sk-toggleable__control sk-hidden--visually\" id=\"sk-estimator-id-1\" type=\"checkbox\" checked><label for=\"sk-estimator-id-1\" class=\"sk-toggleable__label sk-toggleable__label-arrow\">LogisticRegression</label><div class=\"sk-toggleable__content\"><pre>LogisticRegression(max_iter=800)</pre></div></div></div></div></div>"
      ],
      "text/plain": [
       "LogisticRegression(max_iter=800)"
      ]
     },
     "execution_count": 16,
     "metadata": {},
     "output_type": "execute_result"
    }
   ],
   "source": [
    "model = LogisticRegression(max_iter=800)\n",
    "model.fit(X, y)"
   ]
  },
  {
   "cell_type": "code",
   "execution_count": 17,
   "id": "77aa83b7",
   "metadata": {
    "execution": {
     "iopub.execute_input": "2025-03-06T23:39:10.546786Z",
     "iopub.status.busy": "2025-03-06T23:39:10.546420Z",
     "iopub.status.idle": "2025-03-06T23:39:10.552317Z",
     "shell.execute_reply": "2025-03-06T23:39:10.551025Z"
    },
    "papermill": {
     "duration": 0.013465,
     "end_time": "2025-03-06T23:39:10.554426",
     "exception": false,
     "start_time": "2025-03-06T23:39:10.540961",
     "status": "completed"
    },
    "tags": []
   },
   "outputs": [],
   "source": [
    "y_pred = model.predict(X_val)"
   ]
  },
  {
   "cell_type": "code",
   "execution_count": 18,
   "id": "af194727",
   "metadata": {
    "execution": {
     "iopub.execute_input": "2025-03-06T23:39:10.565333Z",
     "iopub.status.busy": "2025-03-06T23:39:10.564944Z",
     "iopub.status.idle": "2025-03-06T23:39:10.570238Z",
     "shell.execute_reply": "2025-03-06T23:39:10.569544Z"
    },
    "papermill": {
     "duration": 0.01208,
     "end_time": "2025-03-06T23:39:10.571564",
     "exception": false,
     "start_time": "2025-03-06T23:39:10.559484",
     "status": "completed"
    },
    "tags": []
   },
   "outputs": [],
   "source": [
    "y_proba = model.predict_proba(X_val)"
   ]
  },
  {
   "cell_type": "code",
   "execution_count": 19,
   "id": "a2971e9a",
   "metadata": {
    "execution": {
     "iopub.execute_input": "2025-03-06T23:39:10.582464Z",
     "iopub.status.busy": "2025-03-06T23:39:10.582128Z",
     "iopub.status.idle": "2025-03-06T23:39:10.596389Z",
     "shell.execute_reply": "2025-03-06T23:39:10.594946Z"
    },
    "papermill": {
     "duration": 0.021875,
     "end_time": "2025-03-06T23:39:10.598544",
     "exception": false,
     "start_time": "2025-03-06T23:39:10.576669",
     "status": "completed"
    },
    "tags": []
   },
   "outputs": [
    {
     "name": "stdout",
     "output_type": "stream",
     "text": [
      "Accuracy: 0.85\n",
      "              precision    recall  f1-score   support\n",
      "\n",
      "           0       0.86      0.90      0.88       110\n",
      "           1       0.83      0.77      0.80        69\n",
      "\n",
      "    accuracy                           0.85       179\n",
      "   macro avg       0.84      0.83      0.84       179\n",
      "weighted avg       0.85      0.85      0.85       179\n",
      "\n"
     ]
    }
   ],
   "source": [
    "accuracy = accuracy_score(y_val, y_pred)\n",
    "print(f\"Accuracy: {accuracy:.2f}\")\n",
    "\n",
    "print(classification_report(y_val, y_pred))"
   ]
  },
  {
   "cell_type": "markdown",
   "id": "ae9cbaa9",
   "metadata": {
    "papermill": {
     "duration": 0.004312,
     "end_time": "2025-03-06T23:39:10.608152",
     "exception": false,
     "start_time": "2025-03-06T23:39:10.603840",
     "status": "completed"
    },
    "tags": []
   },
   "source": [
    "# Using the provided test data (after processing it as well):"
   ]
  },
  {
   "cell_type": "code",
   "execution_count": 20,
   "id": "5ad22295",
   "metadata": {
    "execution": {
     "iopub.execute_input": "2025-03-06T23:39:10.618868Z",
     "iopub.status.busy": "2025-03-06T23:39:10.618517Z",
     "iopub.status.idle": "2025-03-06T23:39:10.625881Z",
     "shell.execute_reply": "2025-03-06T23:39:10.625117Z"
    },
    "papermill": {
     "duration": 0.014196,
     "end_time": "2025-03-06T23:39:10.627111",
     "exception": false,
     "start_time": "2025-03-06T23:39:10.612915",
     "status": "completed"
    },
    "tags": []
   },
   "outputs": [],
   "source": [
    "test[\"Age\"] = imputer_age.fit_transform(test[[\"Age\"]])"
   ]
  },
  {
   "cell_type": "code",
   "execution_count": 21,
   "id": "49d47dde",
   "metadata": {
    "execution": {
     "iopub.execute_input": "2025-03-06T23:39:10.639499Z",
     "iopub.status.busy": "2025-03-06T23:39:10.639137Z",
     "iopub.status.idle": "2025-03-06T23:39:10.644540Z",
     "shell.execute_reply": "2025-03-06T23:39:10.643122Z"
    },
    "papermill": {
     "duration": 0.013604,
     "end_time": "2025-03-06T23:39:10.646283",
     "exception": false,
     "start_time": "2025-03-06T23:39:10.632679",
     "status": "completed"
    },
    "tags": []
   },
   "outputs": [],
   "source": [
    "test[\"Sex\"] = le.fit_transform(test[\"Sex\"])"
   ]
  },
  {
   "cell_type": "code",
   "execution_count": 22,
   "id": "b8bdbd4d",
   "metadata": {
    "execution": {
     "iopub.execute_input": "2025-03-06T23:39:10.658195Z",
     "iopub.status.busy": "2025-03-06T23:39:10.657518Z",
     "iopub.status.idle": "2025-03-06T23:39:10.663853Z",
     "shell.execute_reply": "2025-03-06T23:39:10.662869Z"
    },
    "papermill": {
     "duration": 0.013663,
     "end_time": "2025-03-06T23:39:10.665383",
     "exception": false,
     "start_time": "2025-03-06T23:39:10.651720",
     "status": "completed"
    },
    "tags": []
   },
   "outputs": [],
   "source": [
    "test.fillna({\"Fare\":test[\"Fare\"].mean()}, inplace=True)"
   ]
  },
  {
   "cell_type": "code",
   "execution_count": 23,
   "id": "c2b0df95",
   "metadata": {
    "execution": {
     "iopub.execute_input": "2025-03-06T23:39:10.676704Z",
     "iopub.status.busy": "2025-03-06T23:39:10.676352Z",
     "iopub.status.idle": "2025-03-06T23:39:10.682912Z",
     "shell.execute_reply": "2025-03-06T23:39:10.681568Z"
    },
    "papermill": {
     "duration": 0.014515,
     "end_time": "2025-03-06T23:39:10.685112",
     "exception": false,
     "start_time": "2025-03-06T23:39:10.670597",
     "status": "completed"
    },
    "tags": []
   },
   "outputs": [],
   "source": [
    "X_test = test.drop(columns=[\"PassengerId\",\"Name\", \"Cabin\",\"Ticket\", \"Title\", \"Embarked\",\"Cabin_Letter\"]) "
   ]
  },
  {
   "cell_type": "code",
   "execution_count": 24,
   "id": "3200b9f5",
   "metadata": {
    "execution": {
     "iopub.execute_input": "2025-03-06T23:39:10.696986Z",
     "iopub.status.busy": "2025-03-06T23:39:10.696597Z",
     "iopub.status.idle": "2025-03-06T23:39:10.703017Z",
     "shell.execute_reply": "2025-03-06T23:39:10.701630Z"
    },
    "papermill": {
     "duration": 0.014187,
     "end_time": "2025-03-06T23:39:10.704756",
     "exception": false,
     "start_time": "2025-03-06T23:39:10.690569",
     "status": "completed"
    },
    "tags": []
   },
   "outputs": [],
   "source": [
    "predictions = model.predict(X_test)"
   ]
  },
  {
   "cell_type": "code",
   "execution_count": 25,
   "id": "fe6ba6ae",
   "metadata": {
    "execution": {
     "iopub.execute_input": "2025-03-06T23:39:10.719233Z",
     "iopub.status.busy": "2025-03-06T23:39:10.718877Z",
     "iopub.status.idle": "2025-03-06T23:39:10.730775Z",
     "shell.execute_reply": "2025-03-06T23:39:10.729472Z"
    },
    "papermill": {
     "duration": 0.022683,
     "end_time": "2025-03-06T23:39:10.732880",
     "exception": false,
     "start_time": "2025-03-06T23:39:10.710197",
     "status": "completed"
    },
    "tags": []
   },
   "outputs": [],
   "source": [
    "submission = pd.DataFrame({\"PassengerId\": test[\"PassengerId\"], \"Survived\": predictions})\n",
    "submission.to_csv(\"submission.csv\", index=False)"
   ]
  }
 ],
 "metadata": {
  "kaggle": {
   "accelerator": "none",
   "dataSources": [
    {
     "databundleVersionId": 26502,
     "sourceId": 3136,
     "sourceType": "competition"
    }
   ],
   "dockerImageVersionId": 30886,
   "isGpuEnabled": false,
   "isInternetEnabled": true,
   "language": "python",
   "sourceType": "notebook"
  },
  "kernelspec": {
   "display_name": "Python 3",
   "language": "python",
   "name": "python3"
  },
  "language_info": {
   "codemirror_mode": {
    "name": "ipython",
    "version": 3
   },
   "file_extension": ".py",
   "mimetype": "text/x-python",
   "name": "python",
   "nbconvert_exporter": "python",
   "pygments_lexer": "ipython3",
   "version": "3.10.12"
  },
  "papermill": {
   "default_parameters": {},
   "duration": 8.349217,
   "end_time": "2025-03-06T23:39:11.460401",
   "environment_variables": {},
   "exception": null,
   "input_path": "__notebook__.ipynb",
   "output_path": "__notebook__.ipynb",
   "parameters": {},
   "start_time": "2025-03-06T23:39:03.111184",
   "version": "2.6.0"
  }
 },
 "nbformat": 4,
 "nbformat_minor": 5
}
